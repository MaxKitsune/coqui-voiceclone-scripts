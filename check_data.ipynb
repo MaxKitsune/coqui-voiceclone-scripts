{
 "cells": [
  {
   "cell_type": "markdown",
   "metadata": {},
   "source": [
    "## Validate the audio files"
   ]
  },
  {
   "cell_type": "code",
   "execution_count": null,
   "metadata": {
    "ExecuteTime": {
     "end_time": "2025-04-06T19:55:27.026342Z",
     "start_time": "2025-04-06T19:55:27.020071Z"
    }
   },
   "outputs": [],
   "source": [
    "AUDIO_DIR = \"PATH_TO_AUDIO_FILES\""
   ]
  },
  {
   "cell_type": "code",
   "execution_count": null,
   "metadata": {
    "ExecuteTime": {
     "end_time": "2025-04-06T19:55:27.603588Z",
     "start_time": "2025-04-06T19:55:27.266326Z"
    }
   },
   "outputs": [],
   "source": [
    "import librosa\n",
    "\n",
    "MIN_LENGTH = 1024  #  Minimum samples\n",
    "EXPECTED_SAMPLE_RATE = 22050  # Expected sampling-rate\n",
    "\n",
    "def validate_audio_files(audio_dir, min_length, expected_sample_rate):\n",
    "    \"\"\"\n",
    "    Validates all audio files in a directory.\n",
    "    Checks file size, length and sampling rate.\n",
    "\n",
    "    :param audio_dir: Pfad zum Verzeichnis mit Audiodateien\n",
    "    :param min_length: Mindestanzahl an Samples (FFT-Größe)\n",
    "    :param expected_sample_rate: Erwartete Sampling-Rate\n",
    "    \"\"\"\n",
    "    invalid_files = []\n",
    "\n",
    "    for root, _, files in os.walk(audio_dir):\n",
    "        for file in files:\n",
    "            file_path = os.path.join(root, file)\n",
    "\n",
    "            # Skip files that are not audio\n",
    "            if not file.endswith((\".wav\", \".flac\", \".mp3\")):\n",
    "                continue\n",
    "\n",
    "            try:\n",
    "                # Check file size\n",
    "                if os.path.getsize(file_path) == 0:\n",
    "                    print(f\"Empty file: {file_path}\")\n",
    "                    invalid_files.append(file_path)\n",
    "                    continue\n",
    "\n",
    "                # Load audio file\n",
    "                audio, sr = librosa.load(file_path, sr=None)\n",
    "\n",
    "                # Check Sampling-Rate\n",
    "                if sr != expected_sample_rate:\n",
    "                    print(f\"Inconsistent Sampling-Rate ({sr} instead of {expected_sample_rate}): {file_path}\")\n",
    "                    invalid_files.append(file_path)\n",
    "                    continue\n",
    "\n",
    "                # Prüfe Audiodauer\n",
    "                if len(audio) < min_length:\n",
    "                    print(f\"File with ({len(audio)} Samples too short): {file_path}\")\n",
    "                    invalid_files.append(file_path)\n",
    "                    continue\n",
    "\n",
    "            except Exception as e:\n",
    "                print(f\"Error processing {file_path}: {e}\")\n",
    "                invalid_files.append(file_path)\n",
    "\n",
    "    print(\"\\nValidation completed.\")\n",
    "    if invalid_files:\n",
    "        print(f\"{len(invalid_files)} invalid files found:\")\n",
    "        for f in invalid_files:\n",
    "            print(f\" - {f}\")\n",
    "    else:\n",
    "        print(\"All files are valid!\")\n",
    "\n",
    "if __name__ == \"__main__\":\n",
    "    validate_audio_files(AUDIO_DIR, MIN_LENGTH, EXPECTED_SAMPLE_RATE)"
   ]
  },
  {
   "cell_type": "markdown",
   "metadata": {},
   "source": [
    "## Generate"
   ]
  },
  {
   "cell_type": "code",
   "execution_count": null,
   "metadata": {},
   "outputs": [],
   "source": [
    "import os\n",
    "from TTS.utils.synthesizer import Synthesizer\n",
    "from TTS.config import load_config\n",
    "from TTS.utils.audio import AudioProcessor\n",
    "\n",
    "os.environ[\"CUDA_VISIBLE_DEVICES\"] = \"2\"\n",
    "\n",
    "def main():\n",
    "    model_path = \"PATH_TO_MODEL\" \n",
    "    config_path = \"PATH_TO_MODEL_CONFIG\"\n",
    "\n",
    "    # Laden der Konfiguration\n",
    "    config = load_config(config_path)\n",
    "\n",
    "    # Initialisierung des Synthesizers\n",
    "    synthesizer = Synthesizer(\n",
    "        tts_checkpoint=model_path,\n",
    "        tts_config_path=config_path,  \n",
    "        tts_speakers_file=None,\n",
    "        use_cuda=True  # Set to true if cuda is used\n",
    "    )\n",
    "\n",
    "    # Example sentences\n",
    "    sentences = [\n",
    "        \"Why are you doing that?\",\n",
    "        \"This process can be hard to understand sometimes.\",\n",
    "        \"Sentence after sentence will be generated!\"\n",
    "    ]\n",
    "\n",
    "    # Generate audio and save\n",
    "    output_folder = \"synthesized_audio\"\n",
    "    os.makedirs(output_folder, exist_ok=True)\n",
    "\n",
    "    for i, sentence in enumerate(sentences):\n",
    "        print(f\"Generating sentence {i+1}/{len(sentences)}: {sentence}\")\n",
    "        wav = synthesizer.tts(sentence)\n",
    "        synthesizer.save_wav(wav, os.path.join(output_folder, f\"sentence_{i+1}.wav\"))\n",
    "\n",
    "if __name__ == \"__main__\":\n",
    "    main()"
   ]
  }
 ],
 "metadata": {
  "kernelspec": {
   "display_name": "Python 3",
   "language": "python",
   "name": "python3"
  },
  "language_info": {
   "codemirror_mode": {
    "name": "ipython",
    "version": 3
   },
   "file_extension": ".py",
   "mimetype": "text/x-python",
   "name": "python",
   "nbconvert_exporter": "python",
   "pygments_lexer": "ipython3",
   "version": "3.10.4"
  }
 },
 "nbformat": 4,
 "nbformat_minor": 2
}
